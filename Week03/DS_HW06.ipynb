{
 "metadata": {
  "name": "",
  "signature": "sha256:a81e03b64c0617201cac679d5ebfd8661b89427fa3848dc99226136a982b80fc"
 },
 "nbformat": 3,
 "nbformat_minor": 0,
 "worksheets": [
  {
   "cells": [
    {
     "cell_type": "code",
     "collapsed": false,
     "input": [
      "%matplotlib inline\n",
      "import pandas as pd\n",
      "import numpy as np\n",
      "import sqlite3\n",
      "from pandas.io import sql\n",
      "from scipy import stats\n",
      "import statsmodels.formula.api as smf\n",
      "\n",
      "conn = sqlite3.connect('enron.db')"
     ],
     "language": "python",
     "metadata": {},
     "outputs": [],
     "prompt_number": 5
    },
    {
     "cell_type": "code",
     "collapsed": false,
     "input": [
      "dpt_sql_txt = \"\"\"select name, department, mid, max(rno) rcpt_count\n",
      "from EmployeeBase join MessageBase \n",
      "on eid = from_eid \n",
      "join RecipientBase using (mid)\n",
      "group by name, department, mid \n",
      "\"\"\"\n",
      "\n",
      "msg_dept = sql.frame_query(dpt_sql_txt, conn)\n",
      "msg_dept.head()"
     ],
     "language": "python",
     "metadata": {},
     "outputs": [
      {
       "html": [
        "<div style=\"max-height:1000px;max-width:1500px;overflow:auto;\">\n",
        "<table border=\"1\" class=\"dataframe\">\n",
        "  <thead>\n",
        "    <tr style=\"text-align: right;\">\n",
        "      <th></th>\n",
        "      <th>name</th>\n",
        "      <th>department</th>\n",
        "      <th>mid</th>\n",
        "      <th>rcpt_count</th>\n",
        "    </tr>\n",
        "  </thead>\n",
        "  <tbody>\n",
        "    <tr>\n",
        "      <th>0</th>\n",
        "      <td> Andrea Ring</td>\n",
        "      <td> Trading</td>\n",
        "      <td> 4898</td>\n",
        "      <td> 1</td>\n",
        "    </tr>\n",
        "    <tr>\n",
        "      <th>1</th>\n",
        "      <td> Andrea Ring</td>\n",
        "      <td> Trading</td>\n",
        "      <td> 4929</td>\n",
        "      <td> 1</td>\n",
        "    </tr>\n",
        "    <tr>\n",
        "      <th>2</th>\n",
        "      <td> Andrea Ring</td>\n",
        "      <td> Trading</td>\n",
        "      <td> 5125</td>\n",
        "      <td> 1</td>\n",
        "    </tr>\n",
        "    <tr>\n",
        "      <th>3</th>\n",
        "      <td> Andrea Ring</td>\n",
        "      <td> Trading</td>\n",
        "      <td> 5263</td>\n",
        "      <td> 1</td>\n",
        "    </tr>\n",
        "    <tr>\n",
        "      <th>4</th>\n",
        "      <td> Andrea Ring</td>\n",
        "      <td> Trading</td>\n",
        "      <td> 5304</td>\n",
        "      <td> 1</td>\n",
        "    </tr>\n",
        "  </tbody>\n",
        "</table>\n",
        "<p>5 rows \u00d7 4 columns</p>\n",
        "</div>"
       ],
       "metadata": {},
       "output_type": "pyout",
       "prompt_number": 13,
       "text": [
        "          name department   mid  rcpt_count\n",
        "0  Andrea Ring    Trading  4898           1\n",
        "1  Andrea Ring    Trading  4929           1\n",
        "2  Andrea Ring    Trading  5125           1\n",
        "3  Andrea Ring    Trading  5263           1\n",
        "4  Andrea Ring    Trading  5304           1\n",
        "\n",
        "[5 rows x 4 columns]"
       ]
      }
     ],
     "prompt_number": 13
    },
    {
     "cell_type": "code",
     "collapsed": false,
     "input": [
      "msg_dept['rcpt_count_log'] = np.log(msg_dept['rcpt_count'])\n",
      "msg_dept.head()"
     ],
     "language": "python",
     "metadata": {},
     "outputs": [
      {
       "html": [
        "<div style=\"max-height:1000px;max-width:1500px;overflow:auto;\">\n",
        "<table border=\"1\" class=\"dataframe\">\n",
        "  <thead>\n",
        "    <tr style=\"text-align: right;\">\n",
        "      <th></th>\n",
        "      <th>name</th>\n",
        "      <th>department</th>\n",
        "      <th>mid</th>\n",
        "      <th>rcpt_count</th>\n",
        "      <th>rcpt_count_log</th>\n",
        "    </tr>\n",
        "  </thead>\n",
        "  <tbody>\n",
        "    <tr>\n",
        "      <th>0</th>\n",
        "      <td> Andrea Ring</td>\n",
        "      <td> Trading</td>\n",
        "      <td> 4898</td>\n",
        "      <td> 1</td>\n",
        "      <td> 0</td>\n",
        "    </tr>\n",
        "    <tr>\n",
        "      <th>1</th>\n",
        "      <td> Andrea Ring</td>\n",
        "      <td> Trading</td>\n",
        "      <td> 4929</td>\n",
        "      <td> 1</td>\n",
        "      <td> 0</td>\n",
        "    </tr>\n",
        "    <tr>\n",
        "      <th>2</th>\n",
        "      <td> Andrea Ring</td>\n",
        "      <td> Trading</td>\n",
        "      <td> 5125</td>\n",
        "      <td> 1</td>\n",
        "      <td> 0</td>\n",
        "    </tr>\n",
        "    <tr>\n",
        "      <th>3</th>\n",
        "      <td> Andrea Ring</td>\n",
        "      <td> Trading</td>\n",
        "      <td> 5263</td>\n",
        "      <td> 1</td>\n",
        "      <td> 0</td>\n",
        "    </tr>\n",
        "    <tr>\n",
        "      <th>4</th>\n",
        "      <td> Andrea Ring</td>\n",
        "      <td> Trading</td>\n",
        "      <td> 5304</td>\n",
        "      <td> 1</td>\n",
        "      <td> 0</td>\n",
        "    </tr>\n",
        "  </tbody>\n",
        "</table>\n",
        "<p>5 rows \u00d7 5 columns</p>\n",
        "</div>"
       ],
       "metadata": {},
       "output_type": "pyout",
       "prompt_number": 14,
       "text": [
        "          name department   mid  rcpt_count  rcpt_count_log\n",
        "0  Andrea Ring    Trading  4898           1               0\n",
        "1  Andrea Ring    Trading  4929           1               0\n",
        "2  Andrea Ring    Trading  5125           1               0\n",
        "3  Andrea Ring    Trading  5263           1               0\n",
        "4  Andrea Ring    Trading  5304           1               0\n",
        "\n",
        "[5 rows x 5 columns]"
       ]
      }
     ],
     "prompt_number": 14
    },
    {
     "cell_type": "code",
     "collapsed": false,
     "input": [
      "msg_dept['rcpt_count_log'].hist()"
     ],
     "language": "python",
     "metadata": {},
     "outputs": [
      {
       "metadata": {},
       "output_type": "pyout",
       "prompt_number": 15,
       "text": [
        "<matplotlib.axes.AxesSubplot at 0x10c177590>"
       ]
      },
      {
       "metadata": {},
       "output_type": "display_data",
       "png": "[encoded data removed]",
       "text": [
        "<matplotlib.figure.Figure at 0x10c177c50>"
       ]
      }
     ],
     "prompt_number": 15
    },
    {
     "cell_type": "code",
     "collapsed": false,
     "input": [
      "msg_dept.boxplot(column=['rcpt_count_log'], by='department')"
     ],
     "language": "python",
     "metadata": {},
     "outputs": [
      {
       "metadata": {},
       "output_type": "pyout",
       "prompt_number": 17,
       "text": [
        "<matplotlib.axes.AxesSubplot at 0x10cc51d10>"
       ]
      },
      {
       "metadata": {},
       "output_type": "display_data",
       "png": "[encoded data removed]",
       "text": [
        "<matplotlib.figure.Figure at 0x10cc41d10>"
       ]
      }
     ],
     "prompt_number": 17
    },
    {
     "cell_type": "code",
     "collapsed": false,
     "input": [
      "m_trading = msg_dept[msg_dept['department'] == 'Trading']['rcpt_count_log'].mean()\n",
      "s_trading = msg_dept[msg_dept['department'] == 'Trading']['rcpt_count_log'].std()\n",
      "print 'mean: '  \n",
      "print m_trading\n",
      "print 'std: ' \n",
      "print s_trading"
     ],
     "language": "python",
     "metadata": {},
     "outputs": [
      {
       "output_type": "stream",
       "stream": "stdout",
       "text": [
        "mean: \n",
        "0.259528881668\n",
        "std: \n",
        "0.53275865124\n"
       ]
      }
     ],
     "prompt_number": 31
    },
    {
     "cell_type": "code",
     "collapsed": false,
     "input": [
      "m_legal = msg_dept[msg_dept['department'] == 'Legal']['rcpt_count_log'].mean()\n",
      "s_legal = msg_dept[msg_dept['department'] == 'Legal']['rcpt_count_log'].std()\n",
      "print 'mean: '  \n",
      "print m_legal\n",
      "print 'std: ' \n",
      "print s_legal"
     ],
     "language": "python",
     "metadata": {},
     "outputs": [
      {
       "output_type": "stream",
       "stream": "stdout",
       "text": [
        "mean: \n",
        "0.401037187573\n",
        "std: \n",
        "0.593602948661\n"
       ]
      }
     ],
     "prompt_number": 32
    },
    {
     "cell_type": "code",
     "collapsed": false,
     "input": [
      "m_other = msg_dept[msg_dept['department'] == 'Other']['rcpt_count_log'].mean()\n",
      "s_other = msg_dept[msg_dept['department'] == 'Other']['rcpt_count_log'].std()\n",
      "print 'mean: '  \n",
      "print m_other\n",
      "print 'std: ' \n",
      "print s_other"
     ],
     "language": "python",
     "metadata": {},
     "outputs": [
      {
       "output_type": "stream",
       "stream": "stdout",
       "text": [
        "mean: \n",
        "0.307249904911\n",
        "std: \n",
        "0.578159047016\n"
       ]
      }
     ],
     "prompt_number": 33
    },
    {
     "cell_type": "code",
     "collapsed": false,
     "input": [
      "r_trading = smf.ols('department ~ rcpt_count_log', data=msg_dept[msg_dept['department'] == 'Trading']).fit()\n",
      "print r_trading.summary()\n"
     ],
     "language": "python",
     "metadata": {},
     "outputs": [
      {
       "output_type": "stream",
       "stream": "stdout",
       "text": [
        "                             OLS Regression Results                            \n",
        "===============================================================================\n",
        "Dep. Variable:     department[Trading]   R-squared:                        -inf\n",
        "Model:                             OLS   Adj. R-squared:                   -inf\n",
        "Method:                  Least Squares   F-statistic:                    -4385.\n",
        "Date:                 Wed, 14 May 2014   Prob (F-statistic):               1.00\n",
        "Time:                         13:27:23   Log-Likelihood:             1.3417e+05\n",
        "No. Observations:                 4387   AIC:                        -2.683e+05\n",
        "Df Residuals:                     4385   BIC:                        -2.683e+05\n",
        "Df Model:                            1                                         \n",
        "==================================================================================\n",
        "                     coef    std err          t      P>|t|      [95.0% Conf. Int.]\n",
        "----------------------------------------------------------------------------------\n",
        "Intercept          1.0000   2.12e-16   4.71e+15      0.000         1.000     1.000\n",
        "rcpt_count_log  2.217e-15   3.58e-16      6.194      0.000      1.52e-15  2.92e-15\n",
        "==============================================================================\n",
        "Omnibus:                     2123.969   Durbin-Watson:                   0.013\n",
        "Prob(Omnibus):                  0.000   Jarque-Bera (JB):            10465.798\n",
        "Skew:                          -2.380   Prob(JB):                         0.00\n",
        "Kurtosis:                       8.882   Cond. No.                         2.05\n",
        "==============================================================================\n"
       ]
      }
     ],
     "prompt_number": 37
    },
    {
     "cell_type": "code",
     "collapsed": false,
     "input": [
      "r_legal = smf.ols('department ~ rcpt_count_log', data=msg_dept[msg_dept['department'] == 'Legal']).fit()\n",
      "print r_legal.summary()"
     ],
     "language": "python",
     "metadata": {},
     "outputs": [
      {
       "output_type": "stream",
       "stream": "stdout",
       "text": [
        "                            OLS Regression Results                            \n",
        "==============================================================================\n",
        "Dep. Variable:      department[Legal]   R-squared:                        -inf\n",
        "Model:                            OLS   Adj. R-squared:                   -inf\n",
        "Method:                 Least Squares   F-statistic:                -1.039e+04\n",
        "Date:                Wed, 14 May 2014   Prob (F-statistic):               1.00\n",
        "Time:                        13:28:25   Log-Likelihood:             3.0174e+05\n",
        "No. Observations:               10396   AIC:                        -6.035e+05\n",
        "Df Residuals:                   10394   BIC:                        -6.035e+05\n",
        "Df Model:                           1                                         \n",
        "==================================================================================\n",
        "                     coef    std err          t      P>|t|      [95.0% Conf. Int.]\n",
        "----------------------------------------------------------------------------------\n",
        "Intercept          1.0000   7.11e-16   1.41e+15      0.000         1.000     1.000\n",
        "rcpt_count_log  5.079e-15   9.93e-16      5.116      0.000      3.13e-15  7.03e-15\n",
        "==============================================================================\n",
        "Omnibus:                     1664.248   Durbin-Watson:                   0.004\n",
        "Prob(Omnibus):                  0.000   Jarque-Bera (JB):             2590.475\n",
        "Skew:                          -1.210   Prob(JB):                         0.00\n",
        "Kurtosis:                       3.351   Cond. No.                         2.06\n",
        "==============================================================================\n"
       ]
      }
     ],
     "prompt_number": 38
    },
    {
     "cell_type": "code",
     "collapsed": false,
     "input": [
      "r_other = smf.ols('department ~ rcpt_count_log', data=msg_dept[msg_dept['department'] == 'Other']).fit()\n",
      "print r_other.summary()"
     ],
     "language": "python",
     "metadata": {},
     "outputs": [
      {
       "output_type": "stream",
       "stream": "stdout",
       "text": [
        "                            OLS Regression Results                            \n",
        "==============================================================================\n",
        "Dep. Variable:      department[Other]   R-squared:                        -inf\n",
        "Model:                            OLS   Adj. R-squared:                   -inf\n",
        "Method:                 Least Squares   F-statistic:                    -6850.\n",
        "Date:                Wed, 14 May 2014   Prob (F-statistic):               1.00\n",
        "Time:                        13:30:08   Log-Likelihood:             2.2438e+05\n",
        "No. Observations:                6852   AIC:                        -4.488e+05\n",
        "Df Residuals:                    6850   BIC:                        -4.487e+05\n",
        "Df Model:                           1                                         \n",
        "==================================================================================\n",
        "                     coef    std err          t      P>|t|      [95.0% Conf. Int.]\n",
        "----------------------------------------------------------------------------------\n",
        "Intercept          1.0000   1.99e-17   5.03e+16      0.000         1.000     1.000\n",
        "rcpt_count_log -2.259e-15   3.04e-17    -74.397      0.000     -2.32e-15  -2.2e-15\n",
        "==============================================================================\n",
        "Omnibus:                     2672.273   Durbin-Watson:                   1.174\n",
        "Prob(Omnibus):                  0.000   Jarque-Bera (JB):             9088.773\n",
        "Skew:                           2.019   Prob(JB):                         0.00\n",
        "Kurtosis:                       6.940   Cond. No.                         1.96\n",
        "==============================================================================\n"
       ]
      }
     ],
     "prompt_number": 39
    },
    {
     "cell_type": "code",
     "collapsed": false,
     "input": [],
     "language": "python",
     "metadata": {},
     "outputs": []
    }
   ],
   "metadata": {}
  }
 ]
}