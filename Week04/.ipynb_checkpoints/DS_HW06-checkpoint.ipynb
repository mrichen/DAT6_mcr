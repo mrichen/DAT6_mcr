{
 "metadata": {
  "name": "",
  "signature": "sha256:9c7c106ee76eda4ea2d87d56f9813939b54923d9a8f9c2fb6ec5ed7f86f5de28"
 },
 "nbformat": 3,
 "nbformat_minor": 0,
 "worksheets": [
  {
   "cells": [
    {
     "cell_type": "code",
     "collapsed": false,
     "input": [
      "# Homework: (or if we have time in class)\n",
      "\n",
      "# 1. Run the next logit model:\n",
      "# y = bundel (if buyera are buying milk in bundels)"
     ],
     "language": "python",
     "metadata": {},
     "outputs": []
    },
    {
     "cell_type": "code",
     "collapsed": false,
     "input": [
      "%matplotlib inline\n",
      "import pandas as pd\n",
      "import statsmodels.api as sm\n",
      "import numpy as np"
     ],
     "language": "python",
     "metadata": {},
     "outputs": [],
     "prompt_number": 1
    },
    {
     "cell_type": "code",
     "collapsed": false,
     "input": [
      "mdata = pd.read_csv('./data/milkdata.csv')\n",
      "mdata.head(3)"
     ],
     "language": "python",
     "metadata": {},
     "outputs": [
      {
       "html": [
        "<div style=\"max-height:1000px;max-width:1500px;overflow:auto;\">\n",
        "<table border=\"1\" class=\"dataframe\">\n",
        "  <thead>\n",
        "    <tr style=\"text-align: right;\">\n",
        "      <th></th>\n",
        "      <th>id</th>\n",
        "      <th>product</th>\n",
        "      <th>full_price</th>\n",
        "      <th>full_pri</th>\n",
        "      <th>promo</th>\n",
        "      <th>disc_price</th>\n",
        "      <th>bundle</th>\n",
        "      <th>time_day</th>\n",
        "      <th>repeated?</th>\n",
        "      <th>repeated_bundle?</th>\n",
        "    </tr>\n",
        "  </thead>\n",
        "  <tbody>\n",
        "    <tr>\n",
        "      <th>0</th>\n",
        "      <td> 1</td>\n",
        "      <td> 1</td>\n",
        "      <td> 2</td>\n",
        "      <td> 1.58</td>\n",
        "      <td> 1</td>\n",
        "      <td> 0.42</td>\n",
        "      <td> 1</td>\n",
        "      <td> 1</td>\n",
        "      <td> 1</td>\n",
        "      <td> 1</td>\n",
        "    </tr>\n",
        "    <tr>\n",
        "      <th>1</th>\n",
        "      <td> 2</td>\n",
        "      <td> 1</td>\n",
        "      <td> 2</td>\n",
        "      <td> 1.15</td>\n",
        "      <td> 1</td>\n",
        "      <td> 0.85</td>\n",
        "      <td> 1</td>\n",
        "      <td> 1</td>\n",
        "      <td> 0</td>\n",
        "      <td> 1</td>\n",
        "    </tr>\n",
        "    <tr>\n",
        "      <th>2</th>\n",
        "      <td> 3</td>\n",
        "      <td> 1</td>\n",
        "      <td> 3</td>\n",
        "      <td> 2.25</td>\n",
        "      <td> 1</td>\n",
        "      <td> 0.75</td>\n",
        "      <td> 0</td>\n",
        "      <td> 1</td>\n",
        "      <td> 1</td>\n",
        "      <td> 1</td>\n",
        "    </tr>\n",
        "  </tbody>\n",
        "</table>\n",
        "<p>3 rows \u00d7 10 columns</p>\n",
        "</div>"
       ],
       "metadata": {},
       "output_type": "pyout",
       "prompt_number": 2,
       "text": [
        "   id  product  full_price  full_pri  promo  disc_price  bundle  time_day  \\\n",
        "0   1        1           2      1.58      1        0.42       1         1   \n",
        "1   2        1           2      1.15      1        0.85       1         1   \n",
        "2   3        1           3      2.25      1        0.75       0         1   \n",
        "\n",
        "   repeated?  repeated_bundle?  \n",
        "0          1                 1  \n",
        "1          0                 1  \n",
        "2          1                 1  \n",
        "\n",
        "[3 rows x 10 columns]"
       ]
      }
     ],
     "prompt_number": 2
    },
    {
     "cell_type": "code",
     "collapsed": false,
     "input": [
      "cols_b =['product', 'full_price', 'full_pri', 'promo', 'disc_price', 'time_day', 'repeated?', 'repeated_bundle?']\n",
      "logit_b = sm.Logit(mdata['bundle'], mdata[cols_b])\n",
      "results_b = logit_b.fit()\n",
      "results_b.summary()"
     ],
     "language": "python",
     "metadata": {},
     "outputs": [
      {
       "output_type": "stream",
       "stream": "stdout",
       "text": [
        "Warning: Maximum number of iterations has been exceeded.\n",
        "         Current function value: 0.383319\n",
        "         Iterations: 35\n"
       ]
      },
      {
       "html": [
        "<table class=\"simpletable\">\n",
        "<caption>Logit Regression Results</caption>\n",
        "<tr>\n",
        "  <th>Dep. Variable:</th>      <td>bundle</td>      <th>  No. Observations:  </th>  <td>   500</td>  \n",
        "</tr>\n",
        "<tr>\n",
        "  <th>Model:</th>               <td>Logit</td>      <th>  Df Residuals:      </th>  <td>   492</td>  \n",
        "</tr>\n",
        "<tr>\n",
        "  <th>Method:</th>               <td>MLE</td>       <th>  Df Model:          </th>  <td>     7</td>  \n",
        "</tr>\n",
        "<tr>\n",
        "  <th>Date:</th>          <td>Sun, 11 May 2014</td> <th>  Pseudo R-squ.:     </th>  <td>0.4219</td>  \n",
        "</tr>\n",
        "<tr>\n",
        "  <th>Time:</th>              <td>22:35:11</td>     <th>  Log-Likelihood:    </th> <td> -191.66</td> \n",
        "</tr>\n",
        "<tr>\n",
        "  <th>converged:</th>           <td>False</td>      <th>  LL-Null:           </th> <td> -331.54</td> \n",
        "</tr>\n",
        "<tr>\n",
        "  <th> </th>                      <td> </td>        <th>  LLR p-value:       </th> <td>1.265e-56</td>\n",
        "</tr>\n",
        "</table>\n",
        "<table class=\"simpletable\">\n",
        "<tr>\n",
        "          <td></td>            <th>coef</th>     <th>std err</th>      <th>z</th>      <th>P>|z|</th> <th>[95.0% Conf. Int.]</th> \n",
        "</tr>\n",
        "<tr>\n",
        "  <th>product</th>          <td>    0.9187</td> <td>    0.252</td> <td>    3.639</td> <td> 0.000</td> <td>    0.424     1.414</td>\n",
        "</tr>\n",
        "<tr>\n",
        "  <th>full_price</th>       <td>    0.8134</td> <td>    1.257</td> <td>    0.647</td> <td> 0.518</td> <td>   -1.650     3.277</td>\n",
        "</tr>\n",
        "<tr>\n",
        "  <th>full_pri</th>         <td>    0.6340</td> <td>    1.204</td> <td>    0.526</td> <td> 0.599</td> <td>   -1.727     2.995</td>\n",
        "</tr>\n",
        "<tr>\n",
        "  <th>promo</th>            <td>   37.4749</td> <td>      nan</td> <td>      nan</td> <td>   nan</td> <td>      nan       nan</td>\n",
        "</tr>\n",
        "<tr>\n",
        "  <th>disc_price</th>       <td>   -0.2738</td> <td>    1.224</td> <td>   -0.224</td> <td> 0.823</td> <td>   -2.673     2.126</td>\n",
        "</tr>\n",
        "<tr>\n",
        "  <th>time_day</th>         <td>   -0.1407</td> <td> 4.29e-09</td> <td>-3.28e+07</td> <td> 0.000</td> <td>   -0.141    -0.141</td>\n",
        "</tr>\n",
        "<tr>\n",
        "  <th>repeated?</th>        <td>   -0.1631</td> <td>    0.496</td> <td>   -0.329</td> <td> 0.742</td> <td>   -1.135     0.809</td>\n",
        "</tr>\n",
        "<tr>\n",
        "  <th>repeated_bundle?</th> <td>  -40.3283</td> <td>      nan</td> <td>      nan</td> <td>   nan</td> <td>      nan       nan</td>\n",
        "</tr>\n",
        "</table>"
       ],
       "metadata": {},
       "output_type": "pyout",
       "prompt_number": 3,
       "text": [
        "<class 'statsmodels.iolib.summary.Summary'>\n",
        "\"\"\"\n",
        "                           Logit Regression Results                           \n",
        "==============================================================================\n",
        "Dep. Variable:                 bundle   No. Observations:                  500\n",
        "Model:                          Logit   Df Residuals:                      492\n",
        "Method:                           MLE   Df Model:                            7\n",
        "Date:                Sun, 11 May 2014   Pseudo R-squ.:                  0.4219\n",
        "Time:                        22:35:11   Log-Likelihood:                -191.66\n",
        "converged:                      False   LL-Null:                       -331.54\n",
        "                                        LLR p-value:                 1.265e-56\n",
        "====================================================================================\n",
        "                       coef    std err          z      P>|z|      [95.0% Conf. Int.]\n",
        "------------------------------------------------------------------------------------\n",
        "product              0.9187      0.252      3.639      0.000         0.424     1.414\n",
        "full_price           0.8134      1.257      0.647      0.518        -1.650     3.277\n",
        "full_pri             0.6340      1.204      0.526      0.599        -1.727     2.995\n",
        "promo               37.4749        nan        nan        nan           nan       nan\n",
        "disc_price          -0.2738      1.224     -0.224      0.823        -2.673     2.126\n",
        "time_day            -0.1407   4.29e-09  -3.28e+07      0.000        -0.141    -0.141\n",
        "repeated?           -0.1631      0.496     -0.329      0.742        -1.135     0.809\n",
        "repeated_bundle?   -40.3283        nan        nan        nan           nan       nan\n",
        "====================================================================================\n",
        "\"\"\""
       ]
      }
     ],
     "prompt_number": 3
    },
    {
     "cell_type": "code",
     "collapsed": false,
     "input": [
      "# x = product, full_price, full_pri, promo, disc_pricem, time_day, repeated\n",
      "# 2. Are consumer more likley to buy 2% milk vs. fat-milk? yes or no? explain\n",
      "\n",
      "# P val is effectively 0 - unlikely to buy 2% milk"
     ],
     "language": "python",
     "metadata": {},
     "outputs": []
    },
    {
     "cell_type": "code",
     "collapsed": false,
     "input": [
      "# 3. Is the effect of promotion negative or positive on the outcome (Ignore significance)? \n",
      "# Can promotions drive consumer to buy in boundle?\n",
      "\n",
      "# sharply positive - a promotion is extremely likely to induce a customer to buy a bundle\n",
      "# however the NaNs are troubling - are there no values for certain combinations?"
     ],
     "language": "python",
     "metadata": {},
     "outputs": []
    },
    {
     "cell_type": "code",
     "collapsed": false,
     "input": [
      "# 4. Calculate the odds ratio for this regression\n",
      "\n",
      "# This is what the internet told me to do\n",
      "print np.exp(results_b.params)"
     ],
     "language": "python",
     "metadata": {},
     "outputs": [
      {
       "output_type": "stream",
       "stream": "stdout",
       "text": [
        "product             2.506127e+00\n",
        "full_price          2.255524e+00\n",
        "full_pri            1.885062e+00\n",
        "promo               1.884290e+16\n",
        "disc_price          7.605065e-01\n",
        "time_day            8.687141e-01\n",
        "repeated?           8.494870e-01\n",
        "repeated_bundle?    3.059517e-18\n",
        "dtype: float64\n"
       ]
      }
     ],
     "prompt_number": 4
    },
    {
     "cell_type": "code",
     "collapsed": false,
     "input": [
      "# 5. Can you think, with the results we got from this regression, \n",
      "# about a strategy to convert consumers to buy halthier milk (2%) rather than fat-milk?\n",
      "\n",
      "# It would seem to me that the most effective way to do this is to offer a promotion,\n",
      "# even a small promotional discount one should give you a significant increase"
     ],
     "language": "python",
     "metadata": {},
     "outputs": []
    }
   ],
   "metadata": {}
  }
 ]
}