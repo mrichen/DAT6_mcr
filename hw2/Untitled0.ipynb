{
 "metadata": {
  "name": "",
  "signature": "sha256:2cb8eeffca0e0b064c191815570581763a1a1143a0368b31c0d08f0ca4c1bd01"
 },
 "nbformat": 3,
 "nbformat_minor": 0,
 "worksheets": [
  {
   "cells": [
    {
     "cell_type": "code",
     "collapsed": false,
     "input": [
      "import os\n",
      "from pprint import pprint\n",
      "\n",
      "# other modules:\n",
      "import matplotlib.pyplot as plt\n",
      "import pandas as pd\n",
      "import twitter\n",
      "import yaml\n",
      "\n",
      "from pymongo import MongoClient"
     ],
     "language": "python",
     "metadata": {},
     "outputs": [],
     "prompt_number": 1
    },
    {
     "cell_type": "code",
     "collapsed": false,
     "input": [
      "credentials = yaml.load(open(os.path.expanduser('~/api_cred.yml')))\n",
      "\n",
      "auth = twitter.oauth.OAuth(credentials['ACCESS_TOKEN'], \n",
      "                           credentials['ACCESS_TOKEN_SECRET'],\n",
      "                           credentials['API_KEY'],\n",
      "                           credentials['API_SECRET'])\n",
      "\n",
      "twitter_api = twitter.Twitter(auth=auth)"
     ],
     "language": "python",
     "metadata": {},
     "outputs": [],
     "prompt_number": 2
    },
    {
     "cell_type": "code",
     "collapsed": false,
     "input": [
      "# Get trends for each country\n",
      "\n",
      "WORLD_WOE_ID = 1\n",
      "US_WOE_ID = 23424977\n",
      "CAN_WOE_ID = 23424775\n",
      "\n",
      "us_trends = twitter_api.trends.place(_id=US_WOE_ID)\n",
      "can_trends = twitter_api.trends.place(_id=CAN_WOE_ID)\n",
      "\n",
      "pprint(us_trends)"
     ],
     "language": "python",
     "metadata": {},
     "outputs": [
      {
       "output_type": "stream",
       "stream": "stdout",
       "text": [
        "[{u'as_of': u'2014-04-28T04:03:44Z',\n",
        "  u'created_at': u'2014-04-28T04:01:31Z',\n",
        "  u'locations': [{u'name': u'United States', u'woeid': 23424977}],\n",
        "  u'trends': [{u'name': u'#BuyProblemOniTunes',\n",
        "               u'promoted_content': None,\n",
        "               u'query': u'%23BuyProblemOniTunes',\n",
        "               u'url': u'http://twitter.com/search?q=%23BuyProblemOniTunes'},\n",
        "              {u'name': u'#WhyBeInARelationshipWhen',\n",
        "               u'promoted_content': None,\n",
        "               u'query': u'%23WhyBeInARelationshipWhen',\n",
        "               u'url': u'http://twitter.com/search?q=%23WhyBeInARelationshipWhen'},\n",
        "              {u'name': u'#prayingforlouisasstonight',\n",
        "               u'promoted_content': None,\n",
        "               u'query': u'%23prayingforlouisasstonight',\n",
        "               u'url': u'http://twitter.com/search?q=%23prayingforlouisasstonight'},\n",
        "              {u'name': u'#ProblemOutTonight',\n",
        "               u'promoted_content': None,\n",
        "               u'query': u'%23ProblemOutTonight',\n",
        "               u'url': u'http://twitter.com/search?q=%23ProblemOutTonight'},\n",
        "              {u'name': u'#squatforjacob',\n",
        "               u'promoted_content': None,\n",
        "               u'query': u'%23squatforjacob',\n",
        "               u'url': u'http://twitter.com/search?q=%23squatforjacob'},\n",
        "              {u'name': u'Ariana Grandes',\n",
        "               u'promoted_content': None,\n",
        "               u'query': u'%22Ariana+Grandes%22',\n",
        "               u'url': u'http://twitter.com/search?q=%22Ariana+Grandes%22'},\n",
        "              {u'name': u'Kevin Harlan',\n",
        "               u'promoted_content': None,\n",
        "               u'query': u'%22Kevin+Harlan%22',\n",
        "               u'url': u'http://twitter.com/search?q=%22Kevin+Harlan%22'},\n",
        "              {u'name': u'Mayflower',\n",
        "               u'promoted_content': None,\n",
        "               u'query': u'Mayflower',\n",
        "               u'url': u'http://twitter.com/search?q=Mayflower'},\n",
        "              {u'name': u'Get Lin',\n",
        "               u'promoted_content': None,\n",
        "               u'query': u'%22Get+Lin%22',\n",
        "               u'url': u'http://twitter.com/search?q=%22Get+Lin%22'},\n",
        "              {u'name': u'Liam Payne',\n",
        "               u'promoted_content': None,\n",
        "               u'query': u'%22Liam+Payne%22',\n",
        "               u'url': u'http://twitter.com/search?q=%22Liam+Payne%22'}]}]\n"
       ]
      }
     ],
     "prompt_number": 3
    },
    {
     "cell_type": "code",
     "collapsed": false,
     "input": [
      "for trends in us_trends:\n",
      "    for trend in trends['trends']:\n",
      "        print trend['name']"
     ],
     "language": "python",
     "metadata": {},
     "outputs": [
      {
       "output_type": "stream",
       "stream": "stdout",
       "text": [
        "#BuyProblemOniTunes\n",
        "#WhyBeInARelationshipWhen\n",
        "#prayingforlouisasstonight\n",
        "#ProblemOutTonight\n",
        "#squatforjacob\n",
        "Ariana Grandes\n",
        "Kevin Harlan\n",
        "Mayflower\n",
        "Get Lin\n",
        "Liam Payne\n"
       ]
      }
     ],
     "prompt_number": 4
    },
    {
     "cell_type": "code",
     "collapsed": false,
     "input": [
      "for trends in can_trends:\n",
      "    for trend in trends['trends']:\n",
      "        print trend['name']"
     ],
     "language": "python",
     "metadata": {},
     "outputs": [
      {
       "output_type": "stream",
       "stream": "stdout",
       "text": [
        "#BuyProblemOniTunes\n",
        "#ProblemOutTonight\n",
        "#galaartis\n",
        "#familyguy\n",
        "Guylaine Tremblay\n",
        "Nick Bonino\n",
        "Claude Legault\n",
        "Dave Morissette\n",
        "#AnaheimDucks\n",
        "Janine Sutto\n"
       ]
      }
     ],
     "prompt_number": 5
    },
    {
     "cell_type": "code",
     "collapsed": false,
     "input": [
      "us_tset = set([trend['name'] for trend in trends['trends'] for trends in us_trends])\n",
      "can_tset = set([trend['name'] for trend in trends['trends'] for trends in can_trends])\n",
      "\n",
      "us_tset.difference_update(can_tset)\n",
      "can_tset.difference_update(us_tset)\n",
      "\n",
      "pprint(us_tset)"
     ],
     "language": "python",
     "metadata": {},
     "outputs": [
      {
       "output_type": "stream",
       "stream": "stdout",
       "text": [
        "set([u'#AnaheimDucks',\n",
        "     u'#familyguy',\n",
        "     u'#galaartis',\n",
        "     u'Claude Legault',\n",
        "     u'Dave Morissette',\n",
        "     u'Guylaine Tremblay',\n",
        "     u'Janine Sutto',\n",
        "     u'Nick Bonino'])\n"
       ]
      }
     ],
     "prompt_number": 6
    },
    {
     "cell_type": "code",
     "collapsed": false,
     "input": [
      "us_statuses, ca_statuses = [], []\n",
      "\n",
      "for trend in list(us_tset):\n",
      "    us_result = twitter_api.search.tweets(q=trend, count=100)\n",
      "    for tweet in us_result['statuses']:\n",
      "        us_statuses.append(tweet)\n",
      "\n",
      "for trend in list(can_tset):\n",
      "    ca_result = twitter_api.search.tweets(q=trend, count=100)\n",
      "    for tweet in ca_result['statuses']:\n",
      "        ca_statuses.append(tweet)\n"
     ],
     "language": "python",
     "metadata": {},
     "outputs": [],
     "prompt_number": 7
    },
    {
     "cell_type": "code",
     "collapsed": false,
     "input": [
      "len(ca_statuses)"
     ],
     "language": "python",
     "metadata": {},
     "outputs": [
      {
       "metadata": {},
       "output_type": "pyout",
       "prompt_number": 8,
       "text": [
        "958"
       ]
      }
     ],
     "prompt_number": 8
    },
    {
     "cell_type": "code",
     "collapsed": false,
     "input": [
      "c = MongoClient()\n",
      "db = c.twitter\n",
      "\n",
      "us_stat_ids = db.us_tweets.insert(us_statuses)\n",
      "ca_stat_ids = db.ca_tweets.insert(ca_statuses)"
     ],
     "language": "python",
     "metadata": {},
     "outputs": [],
     "prompt_number": 9
    },
    {
     "cell_type": "code",
     "collapsed": false,
     "input": [
      "rts_over_four = db.us_tweets.find({'retweet_count': {'$gt': 4}})\n",
      "rts_over_four.count()"
     ],
     "language": "python",
     "metadata": {},
     "outputs": [
      {
       "metadata": {},
       "output_type": "pyout",
       "prompt_number": 28,
       "text": [
        "281"
       ]
      }
     ],
     "prompt_number": 28
    },
    {
     "cell_type": "code",
     "collapsed": false,
     "input": [
      "us_followers_count = list(db.us_tweets.find(fields=['user.name', 'user.followers_count']))\n",
      "\n",
      "ca_followers_count = list(db.ca_tweets.find(fields=['user.name', 'user.followers_count']))\n",
      "ca_followers_count[0]"
     ],
     "language": "python",
     "metadata": {},
     "outputs": [
      {
       "metadata": {},
       "output_type": "pyout",
       "prompt_number": 33,
       "text": [
        "{u'_id': ObjectId('535dd6ff378acd035a037147'),\n",
        " u'user': {u'followers_count': 2566, u'name': u'\\u2728Mahones Princess\\u2728'}}"
       ]
      }
     ],
     "prompt_number": 33
    },
    {
     "cell_type": "code",
     "collapsed": false,
     "input": [
      "us_followers_df = pd.DataFrame({'name': tweet['user'].get('name'), 'followers_count': tweet['user'].get('followers_count')} \n",
      "                            for tweet in us_followers_count)\n",
      "ca_followers_df = pd.DataFrame({'name': tweet['user'].get('name'), 'followers_count': tweet['user'].get('followers_count')} \n",
      "                            for tweet in ca_followers_count)"
     ],
     "language": "python",
     "metadata": {},
     "outputs": [],
     "prompt_number": 34
    },
    {
     "cell_type": "code",
     "collapsed": false,
     "input": [
      "us_followers_df.sort(columns='followers_count', ascending=False).head()"
     ],
     "language": "python",
     "metadata": {},
     "outputs": [
      {
       "html": [
        "<div style=\"max-height:1000px;max-width:1500px;overflow:auto;\">\n",
        "<table border=\"1\" class=\"dataframe\">\n",
        "  <thead>\n",
        "    <tr style=\"text-align: right;\">\n",
        "      <th></th>\n",
        "      <th>followers_count</th>\n",
        "      <th>name</th>\n",
        "    </tr>\n",
        "  </thead>\n",
        "  <tbody>\n",
        "    <tr>\n",
        "      <th>617</th>\n",
        "      <td> 67857</td>\n",
        "      <td> Louis Morissette</td>\n",
        "    </tr>\n",
        "    <tr>\n",
        "      <th>232</th>\n",
        "      <td> 67857</td>\n",
        "      <td> Louis Morissette</td>\n",
        "    </tr>\n",
        "    <tr>\n",
        "      <th>227</th>\n",
        "      <td> 67857</td>\n",
        "      <td> Louis Morissette</td>\n",
        "    </tr>\n",
        "    <tr>\n",
        "      <th>145</th>\n",
        "      <td> 48745</td>\n",
        "      <td>       TVA Sports</td>\n",
        "    </tr>\n",
        "    <tr>\n",
        "      <th>721</th>\n",
        "      <td> 45963</td>\n",
        "      <td>   M\u00e9tro Montr\u00e9al</td>\n",
        "    </tr>\n",
        "  </tbody>\n",
        "</table>\n",
        "<p>5 rows \u00d7 2 columns</p>\n",
        "</div>"
       ],
       "metadata": {},
       "output_type": "pyout",
       "prompt_number": 35,
       "text": [
        "     followers_count              name\n",
        "617            67857  Louis Morissette\n",
        "232            67857  Louis Morissette\n",
        "227            67857  Louis Morissette\n",
        "145            48745        TVA Sports\n",
        "721            45963    M\u00e9tro Montr\u00e9al\n",
        "\n",
        "[5 rows x 2 columns]"
       ]
      }
     ],
     "prompt_number": 35
    },
    {
     "cell_type": "code",
     "collapsed": false,
     "input": [
      "ca_followers_df.sort(columns='followers_count', ascending=False).head()"
     ],
     "language": "python",
     "metadata": {},
     "outputs": [
      {
       "html": [
        "<div style=\"max-height:1000px;max-width:1500px;overflow:auto;\">\n",
        "<table border=\"1\" class=\"dataframe\">\n",
        "  <thead>\n",
        "    <tr style=\"text-align: right;\">\n",
        "      <th></th>\n",
        "      <th>followers_count</th>\n",
        "      <th>name</th>\n",
        "    </tr>\n",
        "  </thead>\n",
        "  <tbody>\n",
        "    <tr>\n",
        "      <th>937</th>\n",
        "      <td> 633734</td>\n",
        "      <td>      Deadspin</td>\n",
        "    </tr>\n",
        "    <tr>\n",
        "      <th>24 </th>\n",
        "      <td> 151060</td>\n",
        "      <td> 1DLiveUpdates</td>\n",
        "    </tr>\n",
        "    <tr>\n",
        "      <th>463</th>\n",
        "      <td>  91293</td>\n",
        "      <td>  Harry Styles</td>\n",
        "    </tr>\n",
        "    <tr>\n",
        "      <th>422</th>\n",
        "      <td>  91293</td>\n",
        "      <td>  Harry Styles</td>\n",
        "    </tr>\n",
        "    <tr>\n",
        "      <th>450</th>\n",
        "      <td>  91293</td>\n",
        "      <td>  Harry Styles</td>\n",
        "    </tr>\n",
        "  </tbody>\n",
        "</table>\n",
        "<p>5 rows \u00d7 2 columns</p>\n",
        "</div>"
       ],
       "metadata": {},
       "output_type": "pyout",
       "prompt_number": 36,
       "text": [
        "     followers_count           name\n",
        "937           633734       Deadspin\n",
        "24            151060  1DLiveUpdates\n",
        "463            91293   Harry Styles\n",
        "422            91293   Harry Styles\n",
        "450            91293   Harry Styles\n",
        "\n",
        "[5 rows x 2 columns]"
       ]
      }
     ],
     "prompt_number": 36
    },
    {
     "cell_type": "code",
     "collapsed": false,
     "input": [],
     "language": "python",
     "metadata": {},
     "outputs": []
    }
   ],
   "metadata": {}
  }
 ]
}